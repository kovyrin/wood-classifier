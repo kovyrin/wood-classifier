{
 "cells": [
  {
   "cell_type": "code",
   "execution_count": 2,
   "metadata": {},
   "outputs": [
    {
     "name": "stdout",
     "output_type": "stream",
     "text": [
      "Requirement already satisfied: beautifulsoup4 in /home/kovyrin/anaconda3/lib/python3.9/site-packages (4.11.1)\n",
      "Requirement already satisfied: lxml in /home/kovyrin/anaconda3/lib/python3.9/site-packages (4.9.1)\n",
      "Collecting html5lib\n",
      "  Downloading html5lib-1.1-py2.py3-none-any.whl (112 kB)\n",
      "\u001b[2K     \u001b[90m━━━━━━━━━━━━━━━━━━━━━━━━━━━━━━━━━━━━━━━\u001b[0m \u001b[32m112.2/112.2 kB\u001b[0m \u001b[31m3.2 MB/s\u001b[0m eta \u001b[36m0:00:00\u001b[0m\n",
      "\u001b[?25hRequirement already satisfied: soupsieve>1.2 in /home/kovyrin/anaconda3/lib/python3.9/site-packages (from beautifulsoup4) (2.3.2.post1)\n",
      "Requirement already satisfied: six>=1.9 in /home/kovyrin/anaconda3/lib/python3.9/site-packages (from html5lib) (1.16.0)\n",
      "Requirement already satisfied: webencodings in /home/kovyrin/anaconda3/lib/python3.9/site-packages (from html5lib) (0.5.1)\n",
      "Installing collected packages: html5lib\n",
      "Successfully installed html5lib-1.1\n"
     ]
    }
   ],
   "source": [
    "!pip install beautifulsoup4 lxml html5lib"
   ]
  },
  {
   "cell_type": "code",
   "execution_count": 20,
   "metadata": {},
   "outputs": [],
   "source": [
    "from bs4 import BeautifulSoup \n",
    "\n",
    "sitemap_file = \"data/wood-database/post-sitemap.xml\"\n",
    "woods = {}\n",
    "image_counts = {}\n",
    "\n",
    "# Parse xml sitemap file\n",
    "with open(sitemap_file, \"r\") as f:\n",
    "    xml = f.read()\n",
    "    soup = BeautifulSoup(xml, \"xml\")\n",
    "    for url in soup.find_all(\"url\"):\n",
    "        wood_page = url.find(\"loc\").text\n",
    "        wood_name = wood_page.split(\"/\")[-2]\n",
    "        images = [image.text.strip() for image in url.find_all(\"image:image\")]\n",
    "        woods[wood_name] = {\n",
    "            \"page\": wood_page,\n",
    "            \"images\": images\n",
    "        }\n",
    "        for image in images:\n",
    "            image_counts[image] = image_counts.get(image, 0) + 1\n",
    "\n",
    "# Print all images that are used more than once, ordered by number of uses\n",
    "# for image, count in sorted(image_counts.items(), key=lambda x: x[1], reverse=True):\n",
    "#     if count > 1:\n",
    "#         print(f\"{image} ({count})\")\n",
    "\n",
    "\n",
    "# Remove all images that are used more than once\n",
    "for wood in woods.values():\n",
    "    wood[\"images\"] = [image for image in wood[\"images\"] if image_counts[image] == 1]\n",
    "\n",
    "# Remove all woods that have no images\n",
    "woods = {wood_name: wood for wood_name, wood in woods.items() if len(wood[\"images\"]) > 0}\n",
    "\n",
    "# Save to json file\n",
    "import json\n",
    "with open(\"data/wood-database/woods.json\", \"w\") as f:\n",
    "    json.dump(woods, f, indent=2)"
   ]
  },
  {
   "cell_type": "code",
   "execution_count": 21,
   "metadata": {},
   "outputs": [
    {
     "name": "stdout",
     "output_type": "stream",
     "text": [
      "Number of woods: 497\n",
      "Number of images: 1867\n"
     ]
    }
   ],
   "source": [
    "# load the woods from the json file\n",
    "import json\n",
    "with open(\"data/wood-database/woods.json\", \"r\") as f:\n",
    "    woods = json.load(f)\n",
    "\n",
    "# Print the number of woods and images\n",
    "print(f\"Number of woods: {len(woods)}\")\n",
    "print(f\"Number of images: {sum(len(wood['images']) for wood in woods.values())}\")\n"
   ]
  },
  {
   "cell_type": "code",
   "execution_count": 22,
   "metadata": {},
   "outputs": [
    {
     "name": "stderr",
     "output_type": "stream",
     "text": [
      "100%|██████████| 497/497 [08:44<00:00,  1.05s/it]\n"
     ]
    }
   ],
   "source": [
    "# For each wood, download the images and save them to a folder with the wood name\n",
    "import os\n",
    "import requests\n",
    "from tqdm import tqdm\n",
    "\n",
    "for wood_name, wood in tqdm(woods.items()):\n",
    "    wood_folder = os.path.join(\"data/wood-database/woods\", wood_name)\n",
    "    os.makedirs(wood_folder, exist_ok=True)\n",
    "    for image_url in wood[\"images\"]:\n",
    "        image_name = image_url.split(\"/\")[-1]\n",
    "        image_path = os.path.join(wood_folder, image_name)\n",
    "        if not os.path.exists(image_path):\n",
    "            response = requests.get(image_url)\n",
    "            with open(image_path, \"wb\") as f:\n",
    "                f.write(response.content)"
   ]
  }
 ],
 "metadata": {
  "kernelspec": {
   "display_name": "Python 3.9.15 ('base')",
   "language": "python",
   "name": "python3"
  },
  "language_info": {
   "codemirror_mode": {
    "name": "ipython",
    "version": 3
   },
   "file_extension": ".py",
   "mimetype": "text/x-python",
   "name": "python",
   "nbconvert_exporter": "python",
   "pygments_lexer": "ipython3",
   "version": "3.9.15"
  },
  "orig_nbformat": 4,
  "vscode": {
   "interpreter": {
    "hash": "74d57b16939a5d23c02db7e16427b0a31040baffd3d4679386097e7fdfd37db5"
   }
  }
 },
 "nbformat": 4,
 "nbformat_minor": 2
}
