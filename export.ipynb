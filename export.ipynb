{
 "cells": [
  {
   "cell_type": "code",
   "execution_count": 1,
   "id": "21582541-b9cd-42b7-a19a-e2276d4a93f5",
   "metadata": {},
   "outputs": [],
   "source": [
    "from pathlib import Path\n",
    "from fastai.vision.all import *"
   ]
  },
  {
   "cell_type": "code",
   "execution_count": 2,
   "id": "5aa39940-4769-41d1-bb8a-d535a43c63e2",
   "metadata": {},
   "outputs": [
    {
     "name": "stdout",
     "output_type": "stream",
     "text": [
      "Finding all images...\n"
     ]
    }
   ],
   "source": [
    "class WoodPicture:\n",
    "    def __init__(self, name, path, dataset):\n",
    "        self.name = name\n",
    "        self.path = path\n",
    "        self.dataset = dataset\n",
    "\n",
    "    def image(self):\n",
    "        return Image.open(self.path)\n",
    "\n",
    "class WoodPictures:\n",
    "    def __init__(self, path):\n",
    "        self.path = path\n",
    "        self.name = path.name\n",
    "        self.image_files = [x for x in path.iterdir() if self.use_file(x)]\n",
    "        self.images = None\n",
    "\n",
    "    def use_file(self, f):\n",
    "        if not f.is_file(): return False\n",
    "        if not f.match('*.jpg'): return False\n",
    "        if f.match('*web.*') or f.match('*end grain*'): return False\n",
    "        return True\n",
    "\n",
    "    def get_images(self):\n",
    "        if self.images is None:\n",
    "            self.images = []\n",
    "            have_train = False\n",
    "            for x in self.image_files:\n",
    "                dataset = 'valid' if random.random() < 0.2 else 'train'\n",
    "                if dataset == 'train': have_train = True\n",
    "                self.images.append(WoodPicture(self.name, x, dataset))\n",
    "            if not have_train: self.images[0].dataset = 'train'\n",
    "        return self.images\n",
    "\n",
    "class CustomSaveCallback(SaveModelCallback):\n",
    "    def _save(self, name):\n",
    "        best_fname = f'{name}_{self.best}'\n",
    "        self.last_saved_path = self.learn.save(best_fname, with_opt=self.with_opt)\n",
    "        print(\"Saved to \", self.last_saved_path)\n",
    "\n",
    "print(\"Finding all images...\")\n",
    "data_root=Path('/data/wood-species/hand-cleaned')\n",
    "data_dirs = [x for x in data_root.iterdir() if x.is_dir()]\n",
    "woods = [WoodPictures(x) for x in data_dirs]\n",
    "woods = [wood for wood in woods if len(wood.image_files) > 5]\n",
    "images = [x for wood in woods for x in wood.get_images()]\n",
    "\n",
    "def get_images(x):\n",
    "    return x\n",
    "\n",
    "def get_path(x):\n",
    "    return x.path\n",
    "\n",
    "def get_name(x):\n",
    "    return x.name\n",
    "\n",
    "dls = DataBlock(\n",
    "    blocks=(ImageBlock, CategoryBlock),\n",
    "    get_items=get_images,\n",
    "    get_x=get_path,\n",
    "    get_y=get_name,\n",
    "    splitter=FuncSplitter(lambda o: o.dataset == 'valid'),\n",
    "    item_tfms=RandomResizedCrop(224, min_scale=0.5),\n",
    "    batch_tfms=aug_transforms() #+ [RandomErasing(p=0.5, max_count=10, sh=0.1)],\n",
    ").dataloaders(images, bs=64)"
   ]
  },
  {
   "cell_type": "code",
   "execution_count": 3,
   "id": "30b25b2a-5613-4ecd-8ac4-fb0e7a80b699",
   "metadata": {},
   "outputs": [
    {
     "name": "stderr",
     "output_type": "stream",
     "text": [
      "/opt/conda/lib/python3.7/site-packages/torchvision/models/_utils.py:209: UserWarning: The parameter 'pretrained' is deprecated since 0.13 and will be removed in 0.15, please use 'weights' instead.\n",
      "  f\"The parameter '{pretrained_param}' is deprecated since 0.13 and will be removed in 0.15, \"\n",
      "/opt/conda/lib/python3.7/site-packages/torchvision/models/_utils.py:223: UserWarning: Arguments other than a weight enum or `None` for 'weights' are deprecated since 0.13 and will be removed in 0.15. The current behavior is equivalent to passing `weights=ResNet50_Weights.IMAGENET1K_V1`. You can also use `weights=ResNet50_Weights.DEFAULT` to get the most up-to-date weights.\n",
      "  warnings.warn(msg)\n"
     ]
    },
    {
     "name": "stdout",
     "output_type": "stream",
     "text": [
      "Using the best model:  /data/auto-save/models/model_0.6813802719116211\n"
     ]
    },
    {
     "data": {
      "text/plain": [
       "<fastai.learner.Learner at 0x7fd78f6e5b10>"
      ]
     },
     "execution_count": 3,
     "metadata": {},
     "output_type": "execute_result"
    }
   ],
   "source": [
    "model_dir = Path(\"/data/auto-save\")\n",
    "model_dir.mkdir(parents=True, exist_ok=True)\n",
    "\n",
    "learn = vision_learner(dls, resnet50, metrics=error_rate, path=model_dir)\n",
    "autoload_data = Path(\"/data/auto-save/models\")\n",
    "\n",
    "best_model = str(sorted(autoload_data.glob(\"model_0.*.pth\"))[0]).replace('.pth', '')\n",
    "print(\"Using the best model: \", best_model)\n",
    "learn.load(best_model)"
   ]
  },
  {
   "cell_type": "code",
   "execution_count": 4,
   "id": "a74cfd95-729b-4e03-9bca-b04abd280ded",
   "metadata": {},
   "outputs": [
    {
     "name": "stdout",
     "output_type": "stream",
     "text": [
      "Exporting the model...\n"
     ]
    }
   ],
   "source": [
    "print(\"Exporting the model...\")\n",
    "learn.export(\"best_model\")"
   ]
  },
  {
   "cell_type": "code",
   "execution_count": 5,
   "id": "779e3ef1-6297-48f6-ad3a-55475cf711d4",
   "metadata": {},
   "outputs": [
    {
     "data": {
      "text/plain": [
       "['acacia', 'afata', 'african walnut', 'afrormosia', 'afzelia', 'ailanthus', 'albizia', 'alder', 'allspice', 'almond', 'amboyna', 'amendoim', 'anacahuita', 'andiroba', 'anigre', 'apple', 'apricot', 'arborvitae', 'ash, black', 'ash, misc', 'ash, olive', 'ash, tamo', 'ash, white', 'ash, white special', 'aspen', 'autumn olive', 'avocado', 'avodire', 'badi', 'balsa', 'bamboo', 'basswood', 'beech', 'beech, chilean', 'beefwood', 'beli', 'berlinia', 'billy webb', 'birch', 'birch, mazur', 'bishop wood', 'blackbean', 'blackheart sassafras', 'blackwood, african', 'blackwood, malaysian', 'blackwood, tasmanian', 'bloodwood', 'blue mahoe', 'bocote', 'bosse', 'box elder', 'boxwood', 'bubinga', 'buckeye', 'buckthorn', 'bulletwood', 'butternut', 'cabreuva', 'camphor', 'canary', 'caragana', 'carob', 'carreto', 'catalpa', 'cedar, alaskan yellow', 'cedar, aromatic red', 'cedar, chinese', 'cedar, incense', 'cedar, lebanon', 'cedar, misc', 'cedar, western red', 'ceiba', 'cerejeira', 'chamfuta', 'chechem', 'cherry, american black', 'cherry, gummy', 'cherry, interlocked', 'cherry, misc', 'chestnut', 'chinaberry', 'chittamwood', 'cocobolo', 'coffee tree', 'coolibah', 'corkwood', 'cottonwood', 'cowtree', 'cumaru', 'curupay', 'cypress, australian', 'cypress, bald', \"cypress, lawson's\", 'cypress, misc', 'dogwood', 'ebony, gaboon', 'ebony, macassar', 'ebony, misc', 'ebony, mun', 'ekki', 'elm, american', 'elm, carpathian', 'elm, english', 'elm, misc', 'elm, red', 'elm, siberian', 'etimoe', 'eucalypts', 'fig', 'fir', 'fir, douglas', 'gaboon', 'gidgee', 'ginko', 'goiabao', 'goncalo alves', 'granadillo', 'greenheart', 'gum', 'hackberry', 'harewood', 'hawthorn', 'hemlock', 'hickory', 'holly', 'hophornbeam', 'hormigo', 'hornbeam', 'idigbo', 'imbuia', 'ipe', 'iroko', 'ironwood, desert', 'izombe', 'jacaranda', 'jarrah', 'jatoba', 'jelutong', 'jequitiba', 'jucaro', 'juniper', 'juniper, alligator', 'juniper, pfitzer', 'karri', 'katalox', 'kauri', 'kelobra', 'kempas', 'keruing', 'kingwood', 'knobthorn', 'koa', 'koto', 'kuruguay', 'laburnum', 'lacewood, australian', 'lacewood, brazilian', 'larch', 'lati', 'laurel', 'laurel blanco', 'laurel, california', 'laurel, east indian', 'lebbeck', 'lemonwood', 'leopard', 'lignum vitae', 'lilac', 'limba', 'limbali', 'locust, black', 'locust, honey', 'longhi', 'lotebush', 'louro preto', 'luan', 'lychee', 'lyptus', 'macacauba', 'macadamia', 'machiche', 'madrone', 'magnolia', 'mahogany, african', 'mahogany, cuban', 'mahogany, honduran', 'mahogany, misc', 'makore', 'mallee', 'mango', 'mansonia', 'manzanita', 'maple, ambrosia', 'maple, bear claw', 'maple, bigleaf', 'maple, birdseye', 'maple, curly', 'maple, hard', 'maple, misc', 'maple, norway', 'maple, quilted', 'maple, red', 'maple, soft', 'maple, spalted', 'mappa', 'marblewood', 'meranti', 'meranti, dark red', 'meranti, white', 'merbau', 'mersawa', 'mesquite', 'mimosa', 'moabi', 'monkey pod', 'monkey puzzle', 'monterillo', 'mopane', 'mountain ash', 'movingui', 'mulberry', 'muninga', 'myrtle', 'narra', 'niangon', 'norfolk pine', 'nyatoh', 'oak, black', 'oak, bog', 'oak, burr', 'oak, english brown', 'oak, european', 'oak, live', 'oak, misc', 'oak, pin', 'oak, red', 'oak, white', 'obeche', 'olive', 'orange', 'orientalwood', 'osage orange', 'osage orange, argentine', 'padauk', 'paela', 'paldao', 'palm, black', 'palm, misc', 'palm, red', 'panga panga', 'pau marfim', 'pau rosa', 'paulownia', 'peach', 'pearwood', 'pecan', 'pernambuco', 'peroba rosa', 'persimmon', 'pheasantwood, hawaiian', 'pine, asian', 'pine, eastern white', 'pine, heart', 'pine, mexican', 'pine, misc', 'pine, ponderosa', 'pine, radiata', 'pine, white', 'pine, yellow', 'pink ivory', 'pistachio', 'plane, european', 'plum', 'poplar', 'poplar, rainbow', 'prima vera', 'purpleheart', 'pyinma', 'queensland maple', 'queenwood', 'raintree, golden', 'redbud', 'redgum, river', 'redheart', 'redwood', 'rengas', 'rhododendron', 'rosewood, bolivian', 'rosewood, brazilian', 'rosewood, camatillo', 'rosewood, east indian', 'rosewood, guatemalan', 'rosewood, honduran', 'rosewood, madagascar', 'rosewood, misc', 'rosewood, siam', 'rosewood, sissoo', 'rubberwood', 'russian olive', 'sapele', 'sapodilla', 'sassafras', 'satinwood', 'sen', 'senegal rosewood', 'serviceberry', 'shedua', 'sheoak', 'silky oak', 'sipo', 'smoketree', 'snakewood', 'spanish cedar', 'spruce, engelmann', 'spruce, misc', 'spruce, norway', 'spruce, sitka', 'sucupira', 'sugarberry', 'sumac', 'sumac, staghorn', 'sycamore', 'tallowtree', 'tamarind', 'tamarisk', 'tambran, wild', 'tasmanian oak', 'tatajuba', 'teak', 'texas ebony', 'thinwin', 'thuya', 'tiama', 'tiger caspi', 'timborana', 'tineo', 'tulipwood', 'tupelo', 'tzalam', 'verawood', 'viburnum', 'virola', 'volador', 'walnut, black', 'walnut, claro', 'walnut, european', 'walnut, misc', 'walnut, tropical', 'wamara', 'wawabima', 'wenge', 'willow', 'yellowheart', 'yew, asian', 'yew, english', 'yew, misc', 'yew, pacific', 'zebrawood', 'zircote']"
      ]
     },
     "execution_count": 5,
     "metadata": {},
     "output_type": "execute_result"
    }
   ],
   "source": [
    "dls.vocab"
   ]
  },
  {
   "cell_type": "code",
   "execution_count": null,
   "id": "4a1e8858-16a6-4c49-afd0-20570d6f42f8",
   "metadata": {},
   "outputs": [],
   "source": []
  }
 ],
 "metadata": {
  "environment": {
   "kernel": "python3",
   "name": "pytorch-gpu.1-12.m100",
   "type": "gcloud",
   "uri": "gcr.io/deeplearning-platform-release/pytorch-gpu.1-12:m100"
  },
  "kernelspec": {
   "display_name": "Python 3",
   "language": "python",
   "name": "python3"
  },
  "language_info": {
   "codemirror_mode": {
    "name": "ipython",
    "version": 3
   },
   "file_extension": ".py",
   "mimetype": "text/x-python",
   "name": "python",
   "nbconvert_exporter": "python",
   "pygments_lexer": "ipython3",
   "version": "3.7.12"
  }
 },
 "nbformat": 4,
 "nbformat_minor": 5
}
